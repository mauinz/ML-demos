{
 "cells": [
  {
   "cell_type": "markdown",
   "metadata": {},
   "source": [
    "## Sample Data from some function"
   ]
  },
  {
   "cell_type": "code",
   "execution_count": 252,
   "metadata": {
    "collapsed": false
   },
   "outputs": [
    {
     "data": {
      "image/png": "[encoded data removed]",
      "text/plain": [
       "<matplotlib.figure.Figure at 0x113d62bd0>"
      ]
     },
     "metadata": {},
     "output_type": "display_data"
    }
   ],
   "source": [
    "%matplotlib inline\n",
    "\n",
    "import numpy as np\n",
    "import matplotlib.pyplot as plt\n",
    "from numpy import linalg\n",
    "from sklearn import gaussian_process\n",
    "from functools import partial\n",
    "\n",
    "# Define the function which you wish to estimate, adding noise\n",
    "def func(x):\n",
    "    return x*np.sin(x)\n",
    "def noise(x):\n",
    "    return np.random.randn(len(x)) * 0.1\n",
    "# Sample random values from [0, 2 * pi) and plot them\n",
    "x_obs = np.sort(np.random.random_sample([20]) * 4 * np.pi)\n",
    "y_obs = np.asarray([func(x) for x in x_obs]) + noise(x_obs)\n",
    "plt.scatter(x_obs,y_obs)\n",
    "plt.show()"
   ]
  },
  {
   "cell_type": "markdown",
   "metadata": {
    "collapsed": true
   },
   "source": [
    "A **Gaussian process** is a collection of random variables, any finite number of which have a joint Gaussian distribution. Below we outline a GP given some data and predict new values and the variance, this is assuming we know the parameters GP and kernel function. You can experiment with these parameters but we do not include an optimiser."
   ]
  },
  {
   "cell_type": "markdown",
   "metadata": {},
   "source": [
    "## Polynomail basis function kernel"
   ]
  },
  {
   "cell_type": "code",
   "execution_count": 253,
   "metadata": {
    "collapsed": true
   },
   "outputs": [],
   "source": [
    "def polynomial(x_1, x_2, sigma_f=2, l=1, deg=1):\n",
    "    k = np.empty((len(x_1), len(x_2)))\n",
    "    scale = 2 * (l ** 2)\n",
    "    for i in range(len(x_1)):\n",
    "        for j in range(len(x_2)):\n",
    "            val = 0\n",
    "            for d in range(deg):\n",
    "                val += (x_1[i] * x_2[j]) ** (d + 1)\n",
    "            k[i][j] = val / scale\n",
    "    return k"
   ]
  },
  {
   "cell_type": "markdown",
   "metadata": {},
   "source": [
    "## Squared Exponential kernel function"
   ]
  },
  {
   "cell_type": "code",
   "execution_count": 254,
   "metadata": {
    "collapsed": true
   },
   "outputs": [],
   "source": [
    "# Some helper functions we will use later\n",
    "def squared_exponential(x_1, x_2, sigma_f=2, l=1):\n",
    "    k = np.empty((len(x_1), len(x_2)))\n",
    "    scale = 2 * (l ** 2)\n",
    "    for i in range(len(x_1)):\n",
    "        for j in range(len(x_2)):\n",
    "            k[i][j] = sigma_f * np.exp(-(x_1[i] - x_2[j]) ** 2 / scale)\n",
    "    return k"
   ]
  },
  {
   "cell_type": "code",
   "execution_count": 255,
   "metadata": {
    "collapsed": true
   },
   "outputs": [],
   "source": [
    "# A wrapper to make it easier to change covariance function\n",
    "def get_cov_matrix(cov, x, y, sigma_f, l):\n",
    "    return cov(x, y, sigma_f, l)\n",
    "\n",
    "def mean_of_gp(k_mat, k_s, k_ss, y, new):\n",
    "    temp = np.dot(k_s, linalg.inv(k_mat))\n",
    "    return np.dot(temp, y)\n",
    "\n",
    "def var_of_gp(k_mat, k_s, k_ss):\n",
    "    temp = -np.dot(k_s, linalg.inv(k_mat))\n",
    "    temp = np.dot(temp, np.transpose(k_s))\n",
    "    return k_ss + temp\n",
    "\n",
    "def get_diag(mat):\n",
    "    diag = np.empty(len(mat))\n",
    "    for i in range(len(mat)):\n",
    "        diag[i] = mat[i][i]\n",
    "    return diag\n",
    "\n",
    "x_s = np.arange(0.5, 1.8 * np.pi, 0.1) # Data points for plotting GP, datapoints of interest\n",
    "\n",
    "# This function is only for the visualisation\n",
    "def log_p_y(sigma_f, sigma_n, l, deg, fun):\n",
    "\n",
    "    if fun == 'polynomial':\n",
    "        fun = partial(polynomial, deg=deg)\n",
    "    elif fun == 'squared_exponential':\n",
    "        fun = partial(squared_exponential)\n",
    "\n",
    "    k_mat = get_cov_matrix(fun, x_obs, x_obs, sigma_f, l)\n",
    "    k_s = get_cov_matrix(fun, x_s, x_obs, sigma_f, l)\n",
    "    k_ss = get_cov_matrix(fun, x_s, x_s, sigma_f, l)\n",
    "    \n",
    "    k_mat += sigma_n * np.eye(len(x_values))\n",
    "    k_ss += sigma_n * np.eye(len(x_s))\n",
    "    \n",
    "    t_1 = -0.5 * np.dot(np.transpose(y_obs), linalg.inv(k_mat))\n",
    "    t_1 = np.dot(t_1, y_obs)\n",
    "    t_2 = -0.5 * np.log(linalg.det(k_mat))\n",
    "    t_3 = -0.5 * len(x_obs) * np.log(2 * np.pi)\n",
    "\n",
    "    mean = mean_of_gp(k_mat, k_s, k_ss, y_obs, x_s)\n",
    "    var = var_of_gp(k_mat, k_s, k_ss)\n",
    "    sigma = np.sqrt(get_diag(var))\n",
    "    plt.fill_between(x_s, mean - 1.96 * sigma, mean + 1.96 * sigma, alpha=0.2)\n",
    "    plt.plot(x_s, mean)\n",
    "    plt.scatter(x_obs, y_obs)\n",
    "    plt.plot(x_s, np.sin(x_s))\n",
    "    plt.show()\n",
    "    return -(t_1 + t_2 + t_3)"
   ]
  },
  {
   "cell_type": "markdown",
   "metadata": {},
   "source": [
    "$p(f*|X*, X, Y) = \\int^{\\inf}_{\\inf} p(f*|f,X*)p(f|X,Y) df\n",
    "                        = N(f*| K_{x*x}(K_{xx} + \\Sigma)^{-1}Y, K_{x*x*} - K_{xx*}(K_{xx} + \\Sigma)^{-1}K_{xx*}$"
   ]
  },
  {
   "cell_type": "code",
   "execution_count": 256,
   "metadata": {
    "collapsed": false
   },
   "outputs": [
    {
     "ename": "ValueError",
     "evalue": "operands could not be broadcast together with shapes (20,20) (10,10) (20,20) ",
     "output_type": "error",
     "traceback": [
      "\u001b[0;31m---------------------------------------------------------------------------\u001b[0m",
      "\u001b[0;31mValueError\u001b[0m                                Traceback (most recent call last)",
      "\u001b[0;32m<ipython-input-255-f7835338c34b>\u001b[0m in \u001b[0;36mlog_p_y\u001b[0;34m(sigma_f, sigma_n, l, deg, fun)\u001b[0m\n\u001b[1;32m     32\u001b[0m     \u001b[0mk_ss\u001b[0m \u001b[0;34m=\u001b[0m \u001b[0mget_cov_matrix\u001b[0m\u001b[0;34m(\u001b[0m\u001b[0mfun\u001b[0m\u001b[0;34m,\u001b[0m \u001b[0mx_s\u001b[0m\u001b[0;34m,\u001b[0m \u001b[0mx_s\u001b[0m\u001b[0;34m,\u001b[0m \u001b[0msigma_f\u001b[0m\u001b[0;34m,\u001b[0m \u001b[0ml\u001b[0m\u001b[0;34m)\u001b[0m\u001b[0;34m\u001b[0m\u001b[0m\n\u001b[1;32m     33\u001b[0m \u001b[0;34m\u001b[0m\u001b[0m\n\u001b[0;32m---> 34\u001b[0;31m     \u001b[0mk_mat\u001b[0m \u001b[0;34m+=\u001b[0m \u001b[0msigma_n\u001b[0m \u001b[0;34m*\u001b[0m \u001b[0mnp\u001b[0m\u001b[0;34m.\u001b[0m\u001b[0meye\u001b[0m\u001b[0;34m(\u001b[0m\u001b[0mlen\u001b[0m\u001b[0;34m(\u001b[0m\u001b[0mx_values\u001b[0m\u001b[0;34m)\u001b[0m\u001b[0;34m)\u001b[0m\u001b[0;34m\u001b[0m\u001b[0m\n\u001b[0m\u001b[1;32m     35\u001b[0m     \u001b[0mk_ss\u001b[0m \u001b[0;34m+=\u001b[0m \u001b[0msigma_n\u001b[0m \u001b[0;34m*\u001b[0m \u001b[0mnp\u001b[0m\u001b[0;34m.\u001b[0m\u001b[0meye\u001b[0m\u001b[0;34m(\u001b[0m\u001b[0mlen\u001b[0m\u001b[0;34m(\u001b[0m\u001b[0mx_s\u001b[0m\u001b[0;34m)\u001b[0m\u001b[0;34m)\u001b[0m\u001b[0;34m\u001b[0m\u001b[0m\n\u001b[1;32m     36\u001b[0m \u001b[0;34m\u001b[0m\u001b[0m\n",
      "\u001b[0;31mValueError\u001b[0m: operands could not be broadcast together with shapes (20,20) (10,10) (20,20) "
     ]
    }
   ],
   "source": [
    "# Search the space for some sensible parameter values\n",
    "from ipywidgets import interact\n",
    "\n",
    "visual = interact(log_p_y,\n",
    "                  sigma_f=(0.001, 5.0,0.01),\n",
    "                  sigma_n=(0.001, 5.0,0.01),\n",
    "                  l=(0.1, 10.0, 0.01),\n",
    "                  deg=(1,5,1),\n",
    "                  fun=('polynomial', 'squared_exponential'))"
   ]
  },
  {
   "cell_type": "markdown",
   "metadata": {},
   "source": [
    "## Fit a GP (we skip here the optimisation)"
   ]
  },
  {
   "cell_type": "code",
   "execution_count": 257,
   "metadata": {
    "collapsed": false
   },
   "outputs": [],
   "source": [
    "x_s = np.arange(0,x_obs.max(),0.01)\n",
    "\n",
    "def build_gp(corr, nugget, lim):\n",
    "    # This limit is only for plotting purposes\n",
    "    lim = int(lim * len(x_s))\n",
    "    gp = gaussian_process.GaussianProcess(corr=corr,nugget=nugget)\n",
    "    gp.fit(x_obs.reshape(-1,1), y_obs.reshape(-1,1))\n",
    "    gp_pred, sigma2_pred = gp.predict(x_s[0:lim].reshape(-1,1), eval_MSE=True)\n",
    "    plt.scatter(x_obs, y_obs)\n",
    "    plt.plot(x_s[0:lim], gp_pred)\n",
    "    plt.plot(x_s[0:lim], [func(x) for x in x_s[0:lim]])\n",
    "    plt.fill_between(x_s[0:lim], gp_pred[:,0] - 1.96 * np.sqrt(sigma2_pred), gp_pred[:,0] + 1.96 * np.sqrt(sigma2_pred), alpha=0.2)\n",
    "    return gp"
   ]
  },
  {
   "cell_type": "code",
   "execution_count": 258,
   "metadata": {
    "collapsed": false
   },
   "outputs": [
    {
     "data": {
      "text/plain": [
       "GaussianProcess(beta0=None,\n",
       "        corr=<function absolute_exponential at 0x1126e9e60>,\n",
       "        normalize=True, nugget=array(0.0224), optimizer='fmin_cobyla',\n",
       "        random_start=1,\n",
       "        random_state=<mtrand.RandomState object at 0x11032dc90>,\n",
       "        regr=<function constant at 0x1126e97d0>, storage_mode='full',\n",
       "        theta0=array([[ 0.1]]), thetaL=None, thetaU=None, verbose=False)"
      ]
     },
     "metadata": {},
     "output_type": "display_data"
    },
    {
     "data": {
      "image/png": "[encoded data removed]",
      "text/plain": [
       "<matplotlib.figure.Figure at 0x1139dc850>"
      ]
     },
     "metadata": {},
     "output_type": "display_data"
    }
   ],
   "source": [
    "visual = interact(build_gp,\n",
    "                  nugget=(0.0001,2.0001,0.0001),\n",
    "                  lim=(0.1,1,0.1),\n",
    "                  corr=('absolute_exponential',\n",
    "                        'squared_exponential',\n",
    "                        'generalized_exponential',\n",
    "                        'cubic',\n",
    "                        'linear'))"
   ]
  },
  {
   "cell_type": "code",
   "execution_count": null,
   "metadata": {
    "collapsed": true
   },
   "outputs": [],
   "source": []
  },
  {
   "cell_type": "code",
   "execution_count": null,
   "metadata": {
    "collapsed": true
   },
   "outputs": [],
   "source": []
  }
 ],
 "metadata": {
  "kernelspec": {
   "display_name": "Python 2",
   "language": "python",
   "name": "python2"
  },
  "language_info": {
   "codemirror_mode": {
    "name": "ipython",
    "version": 2
   },
   "file_extension": ".py",
   "mimetype": "text/x-python",
   "name": "python",
   "nbconvert_exporter": "python",
   "pygments_lexer": "ipython2",
   "version": "2.7.10"
  }
 },
 "nbformat": 4,
 "nbformat_minor": 0
}
